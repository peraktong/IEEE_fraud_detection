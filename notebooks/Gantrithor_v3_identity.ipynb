{
 "cells": [
  {
   "cell_type": "markdown",
   "metadata": {},
   "source": [
    "# Gantrithor: A machine learning model that detects fraud from transaction information.\n",
    "This is the initial version for our Gantrithor model,which is based on gradient boost and neural network. Furhter informtation will be added later."
   ]
  },
  {
   "cell_type": "markdown",
   "metadata": {},
   "source": [
    "Updates: Finally we add identity file!"
   ]
  },
  {
   "cell_type": "code",
   "execution_count": 1,
   "metadata": {
    "_cell_guid": "b1076dfc-b9ad-4769-8c92-a6c4dae69d19",
    "_uuid": "8f2839f25d086af736a60e9eeb907d3b93b6e0e5"
   },
   "outputs": [
    {
     "name": "stderr",
     "output_type": "stream",
     "text": [
      "Using TensorFlow backend.\n"
     ]
    }
   ],
   "source": [
    "# This Python 3 environment comes with many helpful analytics libraries installed\n",
    "# It is defined by the kaggle/python docker image: https://github.com/kaggle/docker-python\n",
    "# For example, here's several helpful packages to load in \n",
    "\n",
    "import pandas as pd\n",
    "import time\n",
    "import tensorflow as tf\n",
    "import keras\n",
    "import seaborn as sns\n",
    "from xgboost import XGBClassifier\n",
    "from xgboost import plot_importance\n",
    "import numpy as np\n",
    "from sklearn.model_selection import train_test_split\n",
    "import sklearn\n",
    "from xgboost import XGBRegressor\n",
    "import matplotlib.pyplot as plt\n",
    "from sklearn.preprocessing import LabelEncoder\n",
    "import copy\n",
    "from scipy.stats import pearsonr\n",
    "%matplotlib inline\n",
    "\n",
    "import os\n",
    "\n",
    "#root_path = \"../input/\"\n",
    "root_path = \"Data/\"\n",
    "\n",
    "# Any results you write to the current directory are saved as output."
   ]
  },
  {
   "cell_type": "markdown",
   "metadata": {},
   "source": [
    "# Read and visualize data"
   ]
  },
  {
   "cell_type": "code",
   "execution_count": 2,
   "metadata": {
    "_cell_guid": "79c7e3d0-c299-4dcb-8224-4455121ee9b0",
    "_uuid": "d629ff2d2480ee46fbb7e2d37f6b5fab8052498a"
   },
   "outputs": [
    {
     "name": "stdout",
     "output_type": "stream",
     "text": [
      "['sample_submission.csv', 'test_identity.csv', 'test_transaction.csv', 'train_identity.csv', 'train_transaction.csv']\n",
      "finish loading data\n"
     ]
    }
   ],
   "source": [
    "print(os.listdir(root_path))\n",
    "train_identity = pd.read_csv(root_path+'train_identity.csv')\n",
    "train_transaction = pd.read_csv(root_path+\"train_transaction.csv\")\n",
    "\n",
    "test_identity = pd.read_csv(root_path+'test_identity.csv')\n",
    "test_transaction = pd.read_csv(root_path+\"test_transaction.csv\")\n",
    "print(\"finish loading data\")\n",
    "\n",
    "### a few notations:\n",
    "# The TransactionDT feature is a timedelta from a given reference datetime (not an actual timestamp)."
   ]
  },
  {
   "cell_type": "code",
   "execution_count": null,
   "metadata": {},
   "outputs": [],
   "source": []
  },
  {
   "cell_type": "markdown",
   "metadata": {},
   "source": [
    "# Prepare the dataset for training"
   ]
  },
  {
   "cell_type": "code",
   "execution_count": 3,
   "metadata": {},
   "outputs": [
    {
     "name": "stderr",
     "output_type": "stream",
     "text": [
      "/home/jc6933/anaconda3/envs/tf14/lib/python3.7/site-packages/pandas/core/generic.py:6288: SettingWithCopyWarning: \n",
      "A value is trying to be set on a copy of a slice from a DataFrame\n",
      "\n",
      "See the caveats in the documentation: http://pandas.pydata.org/pandas-docs/stable/user_guide/indexing.html#returning-a-view-versus-a-copy\n",
      "  self._update_inplace(new_data)\n"
     ]
    }
   ],
   "source": [
    "\n",
    "def fill_missing_values(df):\n",
    "    ''' This function imputes missing values with median for numeric columns\n",
    "        and most frequent value for categorical columns'''\n",
    "    missing = df.isnull().sum()\n",
    "    # select missing data\n",
    "    missing = missing[missing > 0]\n",
    "    for column in list(missing.index):\n",
    "        if df[column].dtype == 'object':\n",
    "            # if it's an object, fill that with the *most common* object in that column\n",
    "            df[column].fillna(df[column].value_counts().index[0], inplace=True)\n",
    "        elif df[column].dtype == 'int64' or 'float64' or 'int16' or 'float16':\n",
    "            df[column].fillna(df[column].median(), inplace=True)\n",
    "\n",
    "# prepare data for training\n",
    "def impute_cats(df):\n",
    "    '''This function converts categorical and non-numeric\n",
    "       columns into numeric columns to feed into a ML algorithm'''\n",
    "    # Find the columns of object type along with their column index\n",
    "    # only select columns with obejcts\n",
    "    object_cols = list(df.select_dtypes(exclude=[np.number]).columns)\n",
    "    # return the index for columns with object\n",
    "    object_cols_ind = []\n",
    "    for col in object_cols:\n",
    "        object_cols_ind.append(df.columns.get_loc(col))\n",
    "\n",
    "    # Encode the categorical columns with numbers\n",
    "    # https://scikit-learn.org/stable/modules/generated/sklearn.preprocessing.LabelEncoder.html\n",
    "    # It's still an object but this time with index from 0 to num_features-1\n",
    "    ##!! I will modify this part later since I want to rank order these catagorical features by their fraud rate.\n",
    "    label_enc = LabelEncoder()\n",
    "    for i in object_cols_ind:\n",
    "        df.iloc[:, i] = label_enc.fit_transform(df.iloc[:, i])\n",
    "\n",
    "result = pd.concat([train_transaction.set_index('TransactionID'), train_identity.set_index('TransactionID')], axis=1, sort=False)\n",
    "# calculate pearsons correlation between C... V.. and fraud\n",
    "y_nan = result.isnull().sum(axis=1)\n",
    "\n",
    "\n",
    "\n",
    "#add y_nan\n",
    "result[\"y_nan\"] = y_nan\n",
    "\n",
    "n = result.shape[1]\n",
    "# index_label_name_part = np.r_[11:15,17:n]\n",
    "index_label_name_part = np.r_[1:n]\n",
    "label_names_part = result.iloc[:,index_label_name_part].columns\n",
    "\n",
    "\n",
    "\n",
    "temp = result[label_names_part]\n",
    "\n",
    "# Use mean strategy: Need to think about this\n",
    "#temp.fillna(temp.mean())\n",
    "fill_missing_values(temp)\n",
    "# impute_cats(temp)\n",
    "\n"
   ]
  },
  {
   "cell_type": "code",
   "execution_count": 30,
   "metadata": {},
   "outputs": [
    {
     "name": "stdout",
     "output_type": "stream",
     "text": [
      "Doing 0 of 433 for pearsons correlation\n",
      "ProductCD is a character\n",
      "card4 is a character\n",
      "card6 is a character\n",
      "P_emaildomain is a character\n",
      "R_emaildomain is a character\n",
      "M1 is a character\n",
      "M2 is a character\n",
      "M3 is a character\n",
      "M4 is a character\n",
      "M5 is a character\n",
      "M6 is a character\n",
      "Doing 50 of 433 for pearsons correlation\n",
      "M7 is a character\n",
      "M8 is a character\n",
      "M9 is a character\n",
      "Doing 100 of 433 for pearsons correlation\n",
      "Doing 150 of 433 for pearsons correlation\n",
      "Doing 200 of 433 for pearsons correlation\n",
      "Doing 250 of 433 for pearsons correlation\n",
      "Doing 300 of 433 for pearsons correlation\n",
      "Doing 350 of 433 for pearsons correlation\n",
      "Doing 400 of 433 for pearsons correlation\n",
      "id_12 is a character\n",
      "id_15 is a character\n",
      "id_16 is a character\n",
      "id_23 is a character\n",
      "id_27 is a character\n",
      "id_28 is a character\n",
      "id_29 is a character\n",
      "id_30 is a character\n",
      "id_31 is a character\n",
      "Too long 130 0.052229450759861844\n",
      "id_33 is a character\n",
      "Too long 260 -0.013274781081652589\n",
      "id_34 is a character\n",
      "id_35 is a character\n",
      "id_36 is a character\n",
      "id_37 is a character\n",
      "id_38 is a character\n",
      "DeviceType is a character\n",
      "DeviceInfo is a character\n",
      "Too long 1786 -0.05879644692527616\n"
     ]
    }
   ],
   "source": [
    "y_fraud = result[\"isFraud\"]\n",
    "\n",
    "y_pearsons_array_part = []\n",
    "# If a categorical column include too much categories, ignore it.\n",
    "mask_too_long = []\n",
    "\n",
    "for i in range(temp.shape[1]):\n",
    "    if i%50==0:\n",
    "        print(\"Doing %d of %d for pearsons correlation\"%(i,temp.shape[1]))\n",
    "    try:\n",
    "        corr, _ = pearsonr(temp[label_names_part[i]], y_fraud)\n",
    "        y_pearsons_array_part.append(corr)\n",
    "        mask_too_long.append(True)\n",
    "    except:\n",
    "        print(\"%s is a character\"%label_names_part[i])\n",
    "        label_enc = LabelEncoder()\n",
    "        label_enc.fit(temp[label_names_part[i]])\n",
    "        corr, _ = pearsonr(label_enc.transform(temp[label_names_part[i]]), y_fraud)\n",
    "        y_pearsons_array_part.append(corr)\n",
    "        if len(label_enc.classes_)>100:\n",
    "            print(\"Too long\",len(label_enc.classes_),corr)\n",
    "            mask_too_long.append(False)\n",
    "        else:\n",
    "            mask_too_long.append(True)\n",
    "        \n",
    "        \n",
    "    \n",
    "y_pearsons_array_part = np.array(y_pearsons_array_part)\n",
    "mask_too_long = np.array(mask_too_long)"
   ]
  },
  {
   "cell_type": "code",
   "execution_count": 31,
   "metadata": {},
   "outputs": [
    {
     "data": {
      "text/plain": [
       "(array([  4.,  11.,  22., 166., 106.,  31.,  50.,  27.,  10.,   6.]),\n",
       " array([-0.16501968, -0.12049633, -0.07597298, -0.03144963,  0.01307372,\n",
       "         0.05759707,  0.10212042,  0.14664377,  0.19116712,  0.23569047,\n",
       "         0.28021382]),\n",
       " <a list of 10 Patch objects>)"
      ]
     },
     "execution_count": 31,
     "metadata": {},
     "output_type": "execute_result"
    },
    {
     "data": {
      "image/png": "[encoded data removed]",
      "text/plain": [
       "<Figure size 432x288 with 1 Axes>"
      ]
     },
     "metadata": {
      "needs_background": "light"
     },
     "output_type": "display_data"
    }
   ],
   "source": [
    "# Visualize the correlation between each column and fraud\n",
    "plt.hist(y_pearsons_array_part)"
   ]
  },
  {
   "cell_type": "code",
   "execution_count": null,
   "metadata": {},
   "outputs": [],
   "source": []
  },
  {
   "cell_type": "code",
   "execution_count": null,
   "metadata": {},
   "outputs": [],
   "source": []
  },
  {
   "cell_type": "code",
   "execution_count": 32,
   "metadata": {},
   "outputs": [
    {
     "data": {
      "text/plain": [
       "(433,)"
      ]
     },
     "execution_count": 32,
     "metadata": {},
     "output_type": "execute_result"
    }
   ],
   "source": [
    "mask_too_long.shape"
   ]
  },
  {
   "cell_type": "markdown",
   "metadata": {},
   "source": [
    "# One thing I want to add is: y_nan, which is proved to be \"highly\" correlated to fraud\n",
    "From the histogram for pearsons correlation, we can see -0.128 is not a small value :)"
   ]
  },
  {
   "cell_type": "code",
   "execution_count": 33,
   "metadata": {},
   "outputs": [
    {
     "data": {
      "text/plain": [
       "0.013048838354694654"
      ]
     },
     "execution_count": 33,
     "metadata": {},
     "output_type": "execute_result"
    }
   ],
   "source": [
    "# absolute value for 1 sigma. Let's select these features\n",
    "percentile=32\n",
    "mask = (abs(y_pearsons_array_part)>np.percentile(abs(y_pearsons_array_part),percentile))&(mask_too_long)\n",
    "np.percentile(abs(y_pearsons_array_part),percentile)"
   ]
  },
  {
   "cell_type": "code",
   "execution_count": null,
   "metadata": {},
   "outputs": [],
   "source": []
  },
  {
   "cell_type": "markdown",
   "metadata": {},
   "source": [
    "# I will prepare data for our model (Finally)"
   ]
  },
  {
   "cell_type": "code",
   "execution_count": 34,
   "metadata": {},
   "outputs": [
    {
     "name": "stdout",
     "output_type": "stream",
     "text": [
      "569877 no-fraud\n",
      "20663 fraud\n"
     ]
    }
   ],
   "source": [
    "N_train = result.shape[0]\n",
    "# deal with imbalance:\n",
    "print(len(train_transaction.loc[train_transaction[\"isFraud\"]==0]),\"no-fraud\")\n",
    "print(len(train_transaction.loc[train_transaction[\"isFraud\"]==1]),\"fraud\")\n",
    "\n"
   ]
  },
  {
   "cell_type": "code",
   "execution_count": 35,
   "metadata": {},
   "outputs": [
    {
     "data": {
      "text/plain": [
       "(590540, 291)"
      ]
     },
     "execution_count": 35,
     "metadata": {},
     "output_type": "execute_result"
    }
   ],
   "source": [
    "temp[label_names_part[mask]].shape"
   ]
  },
  {
   "cell_type": "code",
   "execution_count": null,
   "metadata": {},
   "outputs": [],
   "source": []
  },
  {
   "cell_type": "code",
   "execution_count": 36,
   "metadata": {},
   "outputs": [
    {
     "name": "stdout",
     "output_type": "stream",
     "text": [
      "(1097231, 291)\n"
     ]
    }
   ],
   "source": [
    "# for submission:\n",
    "\n",
    "result_submission = pd.concat([test_transaction.set_index('TransactionID'), test_identity.set_index('TransactionID')], axis=1, sort=False)\n",
    "# calculate pearsons correlation between C... V.. and fraud\n",
    "y_nan_submission = result_submission.isnull().sum(axis=1)\n",
    "\n",
    "\n",
    "\n",
    "#add y_nan\n",
    "result_submission[\"y_nan\"] = y_nan_submission\n",
    "\n",
    "# concatenate:\n",
    "X = pd.concat([temp[label_names_part[mask]],result_submission[label_names_part[mask]]])\n",
    "print(X.shape)"
   ]
  },
  {
   "cell_type": "code",
   "execution_count": 37,
   "metadata": {},
   "outputs": [
    {
     "name": "stdout",
     "output_type": "stream",
     "text": [
      "(506691, 433) (590540, 433)\n"
     ]
    }
   ],
   "source": [
    "print(result_submission.shape,temp.shape)"
   ]
  },
  {
   "cell_type": "code",
   "execution_count": 38,
   "metadata": {},
   "outputs": [
    {
     "data": {
      "text/plain": [
       "(1097231, 291)"
      ]
     },
     "execution_count": 38,
     "metadata": {},
     "output_type": "execute_result"
    }
   ],
   "source": [
    "X.shape"
   ]
  },
  {
   "cell_type": "code",
   "execution_count": 39,
   "metadata": {},
   "outputs": [],
   "source": [
    "# Here we will use another method which is a little different than one hot encoder:\n",
    "# rank the rellation between categorical data and fraud and encode them:\n"
   ]
  },
  {
   "cell_type": "code",
   "execution_count": 40,
   "metadata": {},
   "outputs": [],
   "source": [
    "# one hot encoder:\n",
    "one_hot_X = pd.get_dummies(X)"
   ]
  },
  {
   "cell_type": "code",
   "execution_count": 41,
   "metadata": {},
   "outputs": [
    {
     "name": "stdout",
     "output_type": "stream",
     "text": [
      "Finish data preparation\n"
     ]
    }
   ],
   "source": [
    "print(\"Finish data preparation\")"
   ]
  },
  {
   "cell_type": "code",
   "execution_count": 42,
   "metadata": {},
   "outputs": [],
   "source": [
    "# X_train, X_test, y_train, y_test = train_test_split(X, y, test_size=0.2,shuffle=True)\n",
    "y = y_fraud\n"
   ]
  },
  {
   "cell_type": "code",
   "execution_count": null,
   "metadata": {},
   "outputs": [],
   "source": []
  },
  {
   "cell_type": "code",
   "execution_count": 44,
   "metadata": {},
   "outputs": [
    {
     "data": {
      "text/plain": [
       "(1097231, 436)"
      ]
     },
     "execution_count": 44,
     "metadata": {},
     "output_type": "execute_result"
    }
   ],
   "source": [
    "one_hot_X.shape"
   ]
  },
  {
   "cell_type": "markdown",
   "metadata": {},
   "source": [
    "# Use XGBoost to have a try"
   ]
  },
  {
   "cell_type": "code",
   "execution_count": 45,
   "metadata": {},
   "outputs": [
    {
     "name": "stdout",
     "output_type": "stream",
     "text": [
      "Shape of training set (472432, 436) (472432,)\n",
      "Time it takes using GPU=352.09\n",
      "Good=116163 Bad=1945\n",
      "Accuracy=0.9835 for testing set\n",
      "MAE = 0.0046\n"
     ]
    }
   ],
   "source": [
    "\n",
    "\n",
    "# X_train, X_test, y_train, y_test = train_test_split(X, y, test_size=0.2,shuffle=True)\n",
    "X_train, X_test, y_train, y_test = train_test_split(one_hot_X[:N_train], y, test_size=0.2,shuffle=True)\n",
    "\n",
    "print(\"Shape of training set\",X_train.shape,y_train.shape)\n",
    "# # Use XGBoost to have a try\n",
    "\n",
    "# In[21]:\n",
    "\n",
    "\n",
    "# remember this is a very simple toy model which doesn't use any train_identify file or grid search\n",
    "time_start = time.time()\n",
    "params={}\n",
    "params['gpu_id'] = 0\n",
    "params['max_bin'] = 512\n",
    "params['tree_method'] = 'gpu_hist'\n",
    "\n",
    "# regressor is also okay\n",
    "# need more than 10k trees.\n",
    "model = XGBClassifier(n_estimators=10000,verbose=2,n_jobs=-1,**params)\n",
    "model.fit(X_train,y_train)\n",
    "# predict:\n",
    "\n",
    "\n",
    "print(\"Time it takes using GPU=%.2f\"%(time.time()-time_start))\n",
    "\n",
    "# test\n",
    "Y_predict_test = model.predict(X_test)\n",
    "\n",
    "mask_good = abs(Y_predict_test-y_test)<0.01\n",
    "\n",
    "print(\"Good=%d Bad=%d\"%(len(Y_predict_test[mask_good]),len(Y_predict_test)-len(Y_predict_test[mask_good])))\n",
    "\n",
    "print(\"Accuracy=%.4f for testing set\"%(len(Y_predict_test[mask_good])/len(Y_predict_test)))\n",
    "\n",
    "\n",
    "# calculate MAE? I don't think the MAE here is reliable since we do not have the probability...\n",
    "Y_predict_test_prob = model.predict_proba(X_test)\n",
    "\n",
    "print(\"MAE = %.4f\"%(np.nanmedian(abs(Y_predict_test_prob[:,1]-y_test))))\n"
   ]
  },
  {
   "cell_type": "code",
   "execution_count": 48,
   "metadata": {},
   "outputs": [
    {
     "name": "stderr",
     "output_type": "stream",
     "text": [
      "/home/jc6933/anaconda3/envs/tf14/lib/python3.7/site-packages/pandas/core/generic.py:6288: SettingWithCopyWarning: \n",
      "A value is trying to be set on a copy of a slice from a DataFrame\n",
      "\n",
      "See the caveats in the documentation: http://pandas.pydata.org/pandas-docs/stable/user_guide/indexing.html#returning-a-view-versus-a-copy\n",
      "  self._update_inplace(new_data)\n"
     ]
    }
   ],
   "source": [
    "# submission:\n",
    "submission_csv = pd.read_csv(root_path+\"sample_submission.csv\")\n",
    "\n",
    "X_submission = one_hot_X[N_train:]\n",
    "fill_missing_values(X_submission)\n",
    "# for submission:\n",
    "\n",
    "df = X_submission\n",
    "Y_predict_test_prob = model.predict_proba(df)\n",
    "submission_csv[\"isFraud\"]=Y_predict_test_prob\n",
    "submission_csv.to_csv(\"submissions/Gantrithor_v2_2_prob.csv\", index=False)"
   ]
  },
  {
   "cell_type": "code",
   "execution_count": null,
   "metadata": {},
   "outputs": [],
   "source": [
    "\n",
    "## CV 10 fold\n",
    "\"\"\"\n",
    "\n",
    "# remember this is a very simple toy model which doesn't use any train_identify file or grid search\n",
    "from sklearn.metrics import roc_curve\n",
    "from sklearn.metrics import roc_auc_score\n",
    "time_start = time.time()\n",
    "params={}\n",
    "params['gpu_id'] = 0\n",
    "params['max_bin'] = 512\n",
    "params['tree_method'] = 'gpu_hist'\n",
    "\n",
    "# regressor is also okay\n",
    "# need more than 10k trees.\n",
    "\n",
    "\n",
    "# Doing k fold:\n",
    "accuracy_array = []\n",
    "AUROC_array = []\n",
    "n_k_fold=10\n",
    "model_dic = {}\n",
    "\n",
    "for i in range(n_k_fold):\n",
    "    print(\"Doing k fold %d of %d\"%(i,n_k_fold))\n",
    "    X_train, X_test, y_train, y_test = train_test_split(one_hot_X[:N_train], y, test_size = 0.2, shuffle = True)\n",
    "    model = XGBClassifier(n_estimators=3000, verbose_eval=True,n_jobs=-1,**params)\n",
    "    model.fit(X_train, y_train)\n",
    "    # predict:\n",
    "    Y_predict_test = model.predict(X_test).ravel()\n",
    "    mask_good = abs(Y_predict_test - y_test) < 0.05\n",
    "\n",
    "    # print(\"Good=%d Bad=%d\" % (len(Y_predict_test[mask_good]), len(Y_predict_test) - len(Y_predict_test[mask_good])))\n",
    "    acc_i = len(Y_predict_test[mask_good]) / len(Y_predict_test)\n",
    "\n",
    "    # AUROC:\n",
    "    prob = model.predict_proba(X_test)\n",
    "\n",
    "    AUROC_i = roc_auc_score(y_test, prob[:, 1])\n",
    "    \n",
    "    print(\"ACC=%.4f AUROC=%.4f\"%(acc_i,AUROC_i))\n",
    "    accuracy_array.append(acc_i)\n",
    "    AUROC_array.append(AUROC_i)\n",
    "    model_dic[str(i)] = model\n",
    "    \n",
    "accuracy_array = np.array(accuracy_array)\n",
    "AUROC_array = np.array(AUROC_array)\n",
    "print(\"K_fold_results\")\n",
    "print(\"ACC=%.4f %.4f\"%(np.nanmedian(accuracy_array),np.nanstd(accuracy_array)))\n",
    "\n",
    "print(\"AUROC=%.4f %.4f\"%(np.nanmedian(AUROC_array),np.nanstd(AUROC_array)))\n",
    "\n",
    "\n",
    "\n",
    "\n",
    "print(\"Time it takes using GPU=%.2f\"%(time.time()-time_start))\n",
    "\n",
    "\n",
    "\n",
    "\n",
    "\n",
    "print(\"ACC=%.4f %.4f\"%(np.nanmedian(accuracy_array),np.nanstd(accuracy_array)))\n",
    "\n",
    "print(\"AUROC=%.4f %.4f\"%(np.nanmedian(AUROC_array),np.nanstd(AUROC_array)))\n",
    "\n",
    "\n",
    "\n",
    "\n",
    "\n",
    "\"\"\""
   ]
  },
  {
   "cell_type": "markdown",
   "metadata": {},
   "source": [
    "# for submission K-fold"
   ]
  },
  {
   "cell_type": "code",
   "execution_count": null,
   "metadata": {},
   "outputs": [],
   "source": [
    "# for submission:\n",
    "\n",
    "submission_csv = pd.read_csv(root_path+\"sample_submission.csv\")\n",
    "\n",
    "X_submission = one_hot_X[N_train:]\n",
    "fill_missing_values(X_submission)\n",
    "# for submission:\n",
    "\n",
    "df = X_submission\n",
    "\n",
    "Y_predict_test_prob_all = []\n",
    "for i in range(n_k_fold):\n",
    "    print(\"Predicting k fold %d of %d\"%(i,n_k_fold))\n",
    "    model_i = model_dic[str(i)]\n",
    "    Y_predict_test_prob_i = model_i.predict_proba(df)\n",
    "    Y_predict_test_prob_all.append(Y_predict_test_prob_i[:,1])\n",
    "Y_predict_test_prob_all = np.array(Y_predict_test_prob_all)\n",
    "\n",
    "Y_predict_test_prob = np.nanmedian(Y_predict_test_prob_all,axis=0)\n",
    "print(\"Finish predicting\")\n",
    "\n",
    "\n",
    "# probability\n",
    "\n",
    "submission_csv[\"isFraud\"]=Y_predict_test_prob\n",
    "submission_csv.to_csv(\"submissions/Gantrithor_v2_k_fold_prob.csv\", index=False)\n",
    "\n"
   ]
  },
  {
   "cell_type": "code",
   "execution_count": null,
   "metadata": {},
   "outputs": [],
   "source": [
    "plt.hist(Y_predict_test_prob)"
   ]
  },
  {
   "cell_type": "markdown",
   "metadata": {},
   "source": [
    "# I will add grid search here later, which is really time consuming"
   ]
  },
  {
   "cell_type": "code",
   "execution_count": null,
   "metadata": {},
   "outputs": [],
   "source": []
  },
  {
   "cell_type": "code",
   "execution_count": null,
   "metadata": {},
   "outputs": [],
   "source": []
  },
  {
   "cell_type": "code",
   "execution_count": null,
   "metadata": {},
   "outputs": [],
   "source": []
  },
  {
   "cell_type": "code",
   "execution_count": null,
   "metadata": {},
   "outputs": [],
   "source": []
  },
  {
   "cell_type": "markdown",
   "metadata": {},
   "source": [
    "# Let's look at ROC curve and calculate F1 score."
   ]
  },
  {
   "cell_type": "code",
   "execution_count": null,
   "metadata": {},
   "outputs": [],
   "source": []
  },
  {
   "cell_type": "code",
   "execution_count": 41,
   "metadata": {},
   "outputs": [],
   "source": []
  },
  {
   "cell_type": "code",
   "execution_count": null,
   "metadata": {},
   "outputs": [],
   "source": []
  },
  {
   "cell_type": "code",
   "execution_count": 42,
   "metadata": {},
   "outputs": [],
   "source": []
  },
  {
   "cell_type": "code",
   "execution_count": 46,
   "metadata": {},
   "outputs": [
    {
     "name": "stdout",
     "output_type": "stream",
     "text": [
      "AUC: 0.95\n"
     ]
    },
    {
     "data": {
      "image/png": "[encoded data removed]",
      "text/plain": [
       "<Figure size 432x288 with 1 Axes>"
      ]
     },
     "metadata": {
      "needs_background": "light"
     },
     "output_type": "display_data"
    }
   ],
   "source": [
    "from sklearn.metrics import roc_curve\n",
    "from sklearn.metrics import roc_auc_score\n",
    "\n",
    "def confusion_matrix(y_pred,y_true):\n",
    "    TP = len(y_pred[(y_pred==1)&(y_true==1)])\n",
    "    TN = len(y_pred[(y_pred==1)&(y_true==0)])\n",
    "    # type1 error : false alarm\n",
    "    FP = len(y_pred[(y_pred==1)&(y_true==0)])\n",
    "    # type 2 error. Fail to make alarm\n",
    "    FN = len(y_pred[(y_pred==0)&(y_true==1)])\n",
    "    \n",
    "    recall = TP/(TP+FN)\n",
    "    precision = TP/(TP+FP)\n",
    "    accuracy = (TP+TN)/len(y_pred)\n",
    "    \n",
    "    f1_score = 2/(1/precision+1/recall)\n",
    "    return TP,TN,FP,FN,recall,precision,accuracy,f1_score\n",
    "\n",
    "testy = y_test\n",
    "prob = model.predict_proba(X_test)\n",
    "probs = prob[:,1]\n",
    "\n",
    "\n",
    "\n",
    "auc = roc_auc_score(testy, probs)\n",
    "print('AUC: %.2f' % auc)\n",
    "\n",
    "## draw ROC:\n",
    "fpr, tpr, thresholds = roc_curve(testy, probs)\n",
    "\n",
    "plt.plot(fpr, tpr, color='r', label='ROC=%.4f'%auc)\n",
    "plt.plot([0, 1], [0, 1], color='k',linewidth=4)\n",
    "plt.xlabel('False Positive Rate')\n",
    "plt.ylabel('True Positive Rate')\n",
    "plt.title('ROC')\n",
    "plt.legend()\n",
    "plt.show()\n"
   ]
  },
  {
   "cell_type": "code",
   "execution_count": null,
   "metadata": {},
   "outputs": [],
   "source": []
  },
  {
   "cell_type": "code",
   "execution_count": null,
   "metadata": {},
   "outputs": [],
   "source": []
  },
  {
   "cell_type": "code",
   "execution_count": 47,
   "metadata": {},
   "outputs": [
    {
     "name": "stdout",
     "output_type": "stream",
     "text": [
      "Done\n"
     ]
    }
   ],
   "source": [
    "import pickle\n",
    "# save it:\n",
    "pickle.dump(model, open(\"Gantrithor_v2.pkl\", \"wb\"))\n",
    "print(\"Done\")"
   ]
  },
  {
   "cell_type": "code",
   "execution_count": null,
   "metadata": {},
   "outputs": [],
   "source": []
  },
  {
   "cell_type": "code",
   "execution_count": null,
   "metadata": {},
   "outputs": [],
   "source": []
  }
 ],
 "metadata": {
  "kernelspec": {
   "display_name": "Python 3",
   "language": "python",
   "name": "python3"
  },
  "language_info": {
   "codemirror_mode": {
    "name": "ipython",
    "version": 3
   },
   "file_extension": ".py",
   "mimetype": "text/x-python",
   "name": "python",
   "nbconvert_exporter": "python",
   "pygments_lexer": "ipython3",
   "version": "3.7.3"
  },
  "pycharm": {
   "stem_cell": {
    "cell_type": "raw",
    "metadata": {
     "collapsed": false
    },
    "source": []
   }
  }
 },
 "nbformat": 4,
 "nbformat_minor": 1
}
